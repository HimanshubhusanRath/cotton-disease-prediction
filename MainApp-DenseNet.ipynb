{
 "cells": [
  {
   "cell_type": "code",
   "execution_count": 1,
   "id": "0a7d8021",
   "metadata": {},
   "outputs": [],
   "source": [
    "from flask import Flask, render_template, request\n",
    "import jsonify\n",
    "import pandas as pd\n",
    "import pickle\n",
    "import datetime\n",
    "import numpy as np\n",
    "import calendar\n",
    "import os\n",
    "from werkzeug.utils import secure_filename\n",
    "from fastai.vision.all import *"
   ]
  },
  {
   "cell_type": "code",
   "execution_count": 2,
   "id": "5cad91c3",
   "metadata": {},
   "outputs": [],
   "source": [
    "if not os.path.exists('uploads'):\n",
    "    os.makedirs('uploads')"
   ]
  },
  {
   "cell_type": "code",
   "execution_count": 3,
   "id": "fa72cd7a",
   "metadata": {},
   "outputs": [],
   "source": [
    "# Load the model\n",
    "model = load_learner('model/cotton_disease_densenet-model.h5')"
   ]
  },
  {
   "cell_type": "code",
   "execution_count": 4,
   "id": "895bda42",
   "metadata": {},
   "outputs": [],
   "source": [
    "def predict_disease(image_path, model):\n",
    "    img = plt.imread(image_path)\n",
    "    classofimg, idx, probability = model.predict(img)\n",
    "        \n",
    "    return classofimg"
   ]
  },
  {
   "cell_type": "code",
   "execution_count": 5,
   "id": "d30208e0",
   "metadata": {},
   "outputs": [],
   "source": [
    "# Define the main app\n",
    "app = Flask(__name__,template_folder='views')"
   ]
  },
  {
   "cell_type": "code",
   "execution_count": 6,
   "id": "a9f1f120",
   "metadata": {},
   "outputs": [],
   "source": [
    "# Define the end points\n",
    "@app.route('/',methods=['GET'])\n",
    "def home():\n",
    "    return render_template('home.html')\n",
    "\n",
    "\n",
    "@app.route('/predict',methods=['POST'])\n",
    "def predict():\n",
    "    # Get the file from the request\n",
    "    file = request.files['image']\n",
    "    \n",
    "    # Save the file in uploads folder\n",
    "    CURR_DIR = os.path.abspath('')\n",
    "    file_path = os.path.join(CURR_DIR,'uploads',secure_filename(file.filename))\n",
    "    file.save(file_path)\n",
    "    \n",
    "    # Predict\n",
    "    prediction = predict_disease(file_path, model)\n",
    "    \n",
    "    return prediction"
   ]
  },
  {
   "cell_type": "code",
   "execution_count": null,
   "id": "16757475",
   "metadata": {},
   "outputs": [
    {
     "name": "stdout",
     "output_type": "stream",
     "text": [
      " * Serving Flask app \"__main__\" (lazy loading)\n",
      " * Environment: production\n",
      "\u001b[31m   WARNING: This is a development server. Do not use it in a production deployment.\u001b[0m\n",
      "\u001b[2m   Use a production WSGI server instead.\u001b[0m\n",
      " * Debug mode: on\n"
     ]
    },
    {
     "name": "stderr",
     "output_type": "stream",
     "text": [
      " * Running on http://127.0.0.1:5000/ (Press CTRL+C to quit)\n",
      "127.0.0.1 - - [15/Jun/2021 02:09:53] \"\u001b[37mGET / HTTP/1.1\u001b[0m\" 200 -\n",
      "127.0.0.1 - - [15/Jun/2021 02:09:53] \"\u001b[36mGET /static/css/main.css HTTP/1.1\u001b[0m\" 304 -\n",
      "127.0.0.1 - - [15/Jun/2021 02:09:53] \"\u001b[36mGET /static/js/main.js HTTP/1.1\u001b[0m\" 304 -\n",
      "127.0.0.1 - - [15/Jun/2021 02:09:53] \"\u001b[33mGET /favicon.ico HTTP/1.1\u001b[0m\" 404 -\n",
      "127.0.0.1 - - [15/Jun/2021 02:11:24] \"\u001b[37mGET / HTTP/1.1\u001b[0m\" 200 -\n",
      "127.0.0.1 - - [15/Jun/2021 02:11:24] \"\u001b[37mGET /static/js/main.js HTTP/1.1\u001b[0m\" 200 -\n",
      "127.0.0.1 - - [15/Jun/2021 02:11:24] \"\u001b[37mGET /static/css/main.css HTTP/1.1\u001b[0m\" 200 -\n",
      "127.0.0.1 - - [15/Jun/2021 02:11:44] \"\u001b[37mGET / HTTP/1.1\u001b[0m\" 200 -\n",
      "127.0.0.1 - - [15/Jun/2021 02:11:44] \"\u001b[37mGET /static/js/main.js HTTP/1.1\u001b[0m\" 200 -\n",
      "127.0.0.1 - - [15/Jun/2021 02:11:44] \"\u001b[37mGET /static/css/main.css HTTP/1.1\u001b[0m\" 200 -\n",
      "127.0.0.1 - - [15/Jun/2021 02:12:46] \"\u001b[37mGET / HTTP/1.1\u001b[0m\" 200 -\n",
      "127.0.0.1 - - [15/Jun/2021 02:12:46] \"\u001b[37mGET /static/css/main.css HTTP/1.1\u001b[0m\" 200 -\n",
      "127.0.0.1 - - [15/Jun/2021 02:12:46] \"\u001b[37mGET /static/js/main.js HTTP/1.1\u001b[0m\" 200 -\n"
     ]
    },
    {
     "data": {
      "text/html": [],
      "text/plain": [
       "<IPython.core.display.HTML object>"
      ]
     },
     "metadata": {},
     "output_type": "display_data"
    },
    {
     "name": "stderr",
     "output_type": "stream",
     "text": [
      "127.0.0.1 - - [15/Jun/2021 02:12:59] \"\u001b[37mPOST /predict HTTP/1.1\u001b[0m\" 200 -\n"
     ]
    },
    {
     "data": {
      "text/html": [],
      "text/plain": [
       "<IPython.core.display.HTML object>"
      ]
     },
     "metadata": {},
     "output_type": "display_data"
    },
    {
     "name": "stderr",
     "output_type": "stream",
     "text": [
      "127.0.0.1 - - [15/Jun/2021 02:13:13] \"\u001b[37mPOST /predict HTTP/1.1\u001b[0m\" 200 -\n"
     ]
    }
   ],
   "source": [
    "# Start the App in DEBUG mode.\n",
    "if __name__==\"__main__\":\n",
    "    app.run(debug=True, use_reloader=False)"
   ]
  },
  {
   "cell_type": "code",
   "execution_count": null,
   "id": "370064a3",
   "metadata": {},
   "outputs": [],
   "source": []
  },
  {
   "cell_type": "code",
   "execution_count": null,
   "id": "39b798f8",
   "metadata": {},
   "outputs": [],
   "source": []
  }
 ],
 "metadata": {
  "kernelspec": {
   "display_name": "Python 3",
   "language": "python",
   "name": "python3"
  },
  "language_info": {
   "codemirror_mode": {
    "name": "ipython",
    "version": 3
   },
   "file_extension": ".py",
   "mimetype": "text/x-python",
   "name": "python",
   "nbconvert_exporter": "python",
   "pygments_lexer": "ipython3",
   "version": "3.7.10"
  }
 },
 "nbformat": 4,
 "nbformat_minor": 5
}
